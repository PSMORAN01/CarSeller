{
 "cells": [
  {
   "cell_type": "markdown",
   "metadata": {},
   "source": [
    "# Proyecto Rusty Bargain Carseller"
   ]
  },
  {
   "cell_type": "markdown",
   "metadata": {},
   "source": [
    "El servicio de venta de autos usados Rusty Bargain está desarrollando una aplicación para atraer nuevos clientes. Gracias a esa app, puedes averiguar rápidamente el valor de mercado de tu coche. Tienes acceso al historial: especificaciones técnicas, versiones de equipamiento y precios. Tienes que crear un modelo que determine el valor de mercado.\n",
    "A Rusty Bargain le interesa:\n",
    "- la calidad de la predicción;\n",
    "- la velocidad de la predicción;\n",
    "- el tiempo requerido para el entrenamiento"
   ]
  },
  {
   "cell_type": "markdown",
   "metadata": {},
   "source": [
    "## Carga y exploración de los datos"
   ]
  },
  {
   "cell_type": "code",
   "execution_count": 1,
   "metadata": {},
   "outputs": [],
   "source": [
    "import pandas as pd\n",
    "from sklearn.model_selection import train_test_split\n",
    "from sklearn.preprocessing import OrdinalEncoder\n",
    "import numpy as np\n",
    "from sklearn.ensemble import RandomForestRegressor\n",
    "from sklearn.metrics import mean_squared_error\n",
    "from sklearn.model_selection import cross_val_score\n",
    "import time\n",
    "from catboost import CatBoostRegressor, Pool\n"
   ]
  },
  {
   "cell_type": "code",
   "execution_count": 2,
   "metadata": {},
   "outputs": [],
   "source": [
    "df = pd.read_csv('car_data.csv')"
   ]
  },
  {
   "cell_type": "code",
   "execution_count": 3,
   "metadata": {},
   "outputs": [
    {
     "name": "stdout",
     "output_type": "stream",
     "text": [
      "📦 Columnas y tipos de datos:\n",
      " DateCrawled          object\n",
      "Price                 int64\n",
      "VehicleType          object\n",
      "RegistrationYear      int64\n",
      "Gearbox              object\n",
      "Power                 int64\n",
      "Model                object\n",
      "Mileage               int64\n",
      "RegistrationMonth     int64\n",
      "FuelType             object\n",
      "Brand                object\n",
      "NotRepaired          object\n",
      "DateCreated          object\n",
      "NumberOfPictures      int64\n",
      "PostalCode            int64\n",
      "LastSeen             object\n",
      "dtype: object\n",
      "\n",
      "🔁 Duplicados encontrados: 262\n",
      "\n",
      "🧱 Valores nulos por columna:\n",
      " DateCrawled              0\n",
      "Price                    0\n",
      "VehicleType          37490\n",
      "RegistrationYear         0\n",
      "Gearbox              19833\n",
      "Power                    0\n",
      "Model                19705\n",
      "Mileage                  0\n",
      "RegistrationMonth        0\n",
      "FuelType             32895\n",
      "Brand                    0\n",
      "NotRepaired          71154\n",
      "DateCreated              0\n",
      "NumberOfPictures         0\n",
      "PostalCode               0\n",
      "LastSeen                 0\n",
      "dtype: int64\n",
      "\n",
      "📊 Estadísticas descriptivas generales:\n",
      "              DateCrawled          Price VehicleType  RegistrationYear Gearbox  \\\n",
      "count             354369  354369.000000      316879     354369.000000  334536   \n",
      "unique             15470            NaN           8               NaN       2   \n",
      "top     05/03/2016 14:25            NaN       sedan               NaN  manual   \n",
      "freq                  66            NaN       91457               NaN  268251   \n",
      "mean                 NaN    4416.656776         NaN       2004.234448     NaN   \n",
      "std                  NaN    4514.158514         NaN         90.227958     NaN   \n",
      "min                  NaN       0.000000         NaN       1000.000000     NaN   \n",
      "25%                  NaN    1050.000000         NaN       1999.000000     NaN   \n",
      "50%                  NaN    2700.000000         NaN       2003.000000     NaN   \n",
      "75%                  NaN    6400.000000         NaN       2008.000000     NaN   \n",
      "max                  NaN   20000.000000         NaN       9999.000000     NaN   \n",
      "\n",
      "                Power   Model        Mileage  RegistrationMonth FuelType  \\\n",
      "count   354369.000000  334664  354369.000000      354369.000000   321474   \n",
      "unique            NaN     250            NaN                NaN        7   \n",
      "top               NaN    golf            NaN                NaN   petrol   \n",
      "freq              NaN   29232            NaN                NaN   216352   \n",
      "mean       110.094337     NaN  128211.172535           5.714645      NaN   \n",
      "std        189.850405     NaN   37905.341530           3.726421      NaN   \n",
      "min          0.000000     NaN    5000.000000           0.000000      NaN   \n",
      "25%         69.000000     NaN  125000.000000           3.000000      NaN   \n",
      "50%        105.000000     NaN  150000.000000           6.000000      NaN   \n",
      "75%        143.000000     NaN  150000.000000           9.000000      NaN   \n",
      "max      20000.000000     NaN  150000.000000          12.000000      NaN   \n",
      "\n",
      "             Brand NotRepaired       DateCreated  NumberOfPictures  \\\n",
      "count       354369      283215            354369          354369.0   \n",
      "unique          40           2               109               NaN   \n",
      "top     volkswagen          no  03/04/2016 00:00               NaN   \n",
      "freq         77013      247161             13719               NaN   \n",
      "mean           NaN         NaN               NaN               0.0   \n",
      "std            NaN         NaN               NaN               0.0   \n",
      "min            NaN         NaN               NaN               0.0   \n",
      "25%            NaN         NaN               NaN               0.0   \n",
      "50%            NaN         NaN               NaN               0.0   \n",
      "75%            NaN         NaN               NaN               0.0   \n",
      "max            NaN         NaN               NaN               0.0   \n",
      "\n",
      "           PostalCode          LastSeen  \n",
      "count   354369.000000            354369  \n",
      "unique            NaN             18592  \n",
      "top               NaN  07/04/2016 07:16  \n",
      "freq              NaN               654  \n",
      "mean     50508.689087               NaN  \n",
      "std      25783.096248               NaN  \n",
      "min       1067.000000               NaN  \n",
      "25%      30165.000000               NaN  \n",
      "50%      49413.000000               NaN  \n",
      "75%      71083.000000               NaN  \n",
      "max      99998.000000               NaN  \n"
     ]
    }
   ],
   "source": [
    "print(\"📦 Columnas y tipos de datos:\\n\", df.dtypes)\n",
    "print(\"\\n🔁 Duplicados encontrados:\", df.duplicated().sum())\n",
    "print(\"\\n🧱 Valores nulos por columna:\\n\", df.isna().sum())\n",
    "print(\"\\n📊 Estadísticas descriptivas generales:\\n\", df.describe(include='all'))"
   ]
  },
  {
   "cell_type": "markdown",
   "metadata": {},
   "source": [
    "## Preparación de datos"
   ]
  },
  {
   "cell_type": "code",
   "execution_count": 4,
   "metadata": {},
   "outputs": [],
   "source": [
    "# Esta preparación es unicamente para el modelo RandomForest\n",
    "# 1. Eliminar columnas irrelevantes\n",
    "df = df.drop(['DateCrawled', 'DateCreated', 'LastSeen', 'NumberOfPictures', 'PostalCode'], axis=1)\n",
    "\n",
    "# 2. Rellenar valores nulos\n",
    "for col in ['VehicleType', 'Gearbox', 'Model', 'FuelType', 'NotRepaired']:\n",
    "    df[col] = df[col].fillna('unknown')\n",
    "\n",
    "# 3. Convertir NotRepaired a binaria\n",
    "df['NotRepaired'] = df['NotRepaired'].map({'yes': 1, 'no': 0, 'unknown': -1})\n",
    "\n",
    "# 4. Separar variables categóricas y numéricas\n",
    "categorical = ['VehicleType', 'Gearbox', 'Model', 'FuelType', 'Brand']\n",
    "numerical = ['RegistrationYear', 'Power', 'Mileage', 'RegistrationMonth', 'NotRepaired']\n",
    "\n",
    "# Codificación categórica para árboles simples (se puede cambiar según el modelo)\n",
    "encoder = OrdinalEncoder()\n",
    "df[categorical] = encoder.fit_transform(df[categorical])\n",
    "\n",
    "# 5. Separar features y target\n",
    "X = df.drop('Price', axis=1)\n",
    "y = df['Price']\n",
    "\n",
    "# 6. División del conjunto\n",
    "X_train, X_valid, y_train, y_valid = train_test_split(X, y, test_size=0.2, random_state=42)\n"
   ]
  },
  {
   "cell_type": "markdown",
   "metadata": {},
   "source": [
    "## Entrenamiento del modelo "
   ]
  },
  {
   "cell_type": "code",
   "execution_count": 5,
   "metadata": {},
   "outputs": [
    {
     "name": "stdout",
     "output_type": "stream",
     "text": [
      "🌳 Random Forest Regressor\n",
      "🔧 Hiperparámetros: n_estimators=100, max_depth=10\n",
      "🧠 RECM (validación): 2044.23\n",
      "⏱️ Tiempo de entrenamiento: 25.67 s\n",
      "⏱️ Tiempo de predicción: 0.2765 s\n"
     ]
    }
   ],
   "source": [
    "# 🌳 Entrenamiento con Random Forest Regressor\n",
    "\n",
    "# 1. Inicializar el modelo con hiperparámetros base\n",
    "rf_model = RandomForestRegressor(\n",
    "    n_estimators=100,\n",
    "    max_depth=10,\n",
    "    random_state=42,\n",
    "    n_jobs=-1  # Utilizar todos los núcleos disponibles\n",
    ")\n",
    "\n",
    "# 2. Medir tiempo de entrenamiento\n",
    "start_train = time.time()\n",
    "rf_model.fit(X_train, y_train)\n",
    "end_train = time.time()\n",
    "\n",
    "# 3. Medir tiempo de predicción\n",
    "start_pred = time.time()\n",
    "y_pred = rf_model.predict(X_valid)\n",
    "end_pred = time.time()\n",
    "\n",
    "# 4. Evaluar con RECM (Raíz del Error Cuadrático Medio)\n",
    "rmse = np.sqrt(mean_squared_error(y_valid, y_pred))\n",
    "\n",
    "# 5. Mostrar resultados\n",
    "print(\"🌳 Random Forest Regressor\")\n",
    "print(f\"🔧 Hiperparámetros: n_estimators=100, max_depth=10\")\n",
    "print(f\"🧠 RECM (validación): {rmse:.2f}\")\n",
    "print(f\"⏱️ Tiempo de entrenamiento: {end_train - start_train:.2f} s\")\n",
    "print(f\"⏱️ Tiempo de predicción: {end_pred - start_pred:.4f} s\")\n",
    "\n"
   ]
  },
  {
   "cell_type": "code",
   "execution_count": 7,
   "metadata": {},
   "outputs": [],
   "source": [
    "# 1. Recarga de datos original sin codificación previa\n",
    "df_cb = pd.read_csv('car_data.csv')\n",
    "\n",
    "# 2. Eliminar columnas irrelevantes\n",
    "df_cb = df_cb.drop(['DateCrawled', 'DateCreated', 'LastSeen', 'NumberOfPictures', 'PostalCode'], axis=1)\n",
    "\n",
    "# 3. Rellenar valores nulos\n",
    "for col in ['VehicleType', 'Gearbox', 'Model', 'FuelType', 'NotRepaired']:\n",
    "    df_cb[col] = df_cb[col].fillna('unknown')\n",
    "\n",
    "# 4. Convertir NotRepaired a binaria\n",
    "df_cb['NotRepaired'] = df_cb['NotRepaired'].map({'yes': 1, 'no': 0, 'unknown': -1})\n",
    "\n",
    "# 5. Separar features y target\n",
    "X_cb = df_cb.drop('Price', axis=1)\n",
    "y_cb = df_cb['Price']\n",
    "\n",
    "# 6. Identificar columnas categóricas originales\n",
    "cat_features_cb = ['VehicleType', 'Gearbox', 'Model', 'FuelType', 'Brand']\n",
    "\n",
    "# 7. Dividir conjunto de datos\n",
    "from sklearn.model_selection import train_test_split\n",
    "X_train_cb, X_valid_cb, y_train_cb, y_valid_cb = train_test_split(X_cb, y_cb, test_size=0.2, random_state=42)\n"
   ]
  },
  {
   "cell_type": "code",
   "execution_count": 8,
   "metadata": {},
   "outputs": [
    {
     "name": "stdout",
     "output_type": "stream",
     "text": [
      "0:\tlearn: 4223.5588475\ttotal: 476ms\tremaining: 3m 57s\n",
      "100:\tlearn: 1903.0202646\ttotal: 30.9s\tremaining: 2m 2s\n",
      "200:\tlearn: 1826.2757153\ttotal: 59.3s\tremaining: 1m 28s\n",
      "300:\tlearn: 1787.3068447\ttotal: 1m 26s\tremaining: 57.2s\n",
      "400:\tlearn: 1760.8631807\ttotal: 1m 54s\tremaining: 28.2s\n",
      "499:\tlearn: 1740.0509672\ttotal: 2m 22s\tremaining: 0us\n",
      "🐱 CatBoost Regressor\n",
      "🔧 Hiperparámetros: iterations=500, depth=6, learning_rate=0.1\n",
      "🧠 RECM (validación): 1796.27\n",
      "⏱️ Tiempo de entrenamiento: 143.34 s\n",
      "⏱️ Tiempo de predicción: 0.1129 s\n"
     ]
    }
   ],
   "source": [
    "# 🐱 Entrenamiento con CatBoost Regressor\n",
    "\n",
    "\n",
    "# 1. Crear pools específicos para CatBoost\n",
    "train_pool = Pool(data=X_train_cb, label=y_train_cb, cat_features=cat_features_cb)\n",
    "valid_pool = Pool(data=X_valid_cb, label=y_valid_cb, cat_features=cat_features_cb)\n",
    "\n",
    "# 2. Inicializar modelo con parámetros base\n",
    "cat_model = CatBoostRegressor(\n",
    "    iterations=500,\n",
    "    depth=6,\n",
    "    learning_rate=0.1,\n",
    "    random_seed=42,\n",
    "    verbose=100,\n",
    "    loss_function='RMSE'\n",
    ")\n",
    "\n",
    "# 3. Entrenamiento y medición de tiempo\n",
    "start_train_cb = time.time()\n",
    "cat_model.fit(train_pool)\n",
    "end_train_cb = time.time()\n",
    "\n",
    "# 4. Predicción y evaluación\n",
    "start_pred_cb = time.time()\n",
    "y_pred_cb = cat_model.predict(valid_pool)\n",
    "end_pred_cb = time.time()\n",
    "\n",
    "rmse_cb = np.sqrt(mean_squared_error(y_valid_cb, y_pred_cb))\n",
    "\n",
    "# 5. Mostrar resultados\n",
    "print(\"🐱 CatBoost Regressor\")\n",
    "print(f\"🔧 Hiperparámetros: iterations=500, depth=6, learning_rate=0.1\")\n",
    "print(f\"🧠 RECM (validación): {rmse_cb:.2f}\")\n",
    "print(f\"⏱️ Tiempo de entrenamiento: {end_train_cb - start_train_cb:.2f} s\")\n",
    "print(f\"⏱️ Tiempo de predicción: {end_pred_cb - start_pred_cb:.4f} s\")\n",
    "\n",
    "\n"
   ]
  },
  {
   "cell_type": "markdown",
   "metadata": {},
   "source": [
    "## Análisis del modelo"
   ]
  },
  {
   "cell_type": "code",
   "execution_count": 9,
   "metadata": {},
   "outputs": [
    {
     "name": "stdout",
     "output_type": "stream",
     "text": [
      "\n",
      "📊 Comparación de modelos:\n",
      "\n",
      "          Modelo     RECM  Tiempo de entrenamiento (s)  \\\n",
      "0  Random Forest  2044.23                        25.67   \n",
      "1       CatBoost  1796.27                       143.34   \n",
      "\n",
      "   Tiempo de predicción (s)  \n",
      "0                    0.2765  \n",
      "1                    0.1129  \n"
     ]
    }
   ],
   "source": [
    "# Comparar resultados entre modelos entrenados\n",
    "comparacion = pd.DataFrame({\n",
    "    'Modelo': ['Random Forest', 'CatBoost'],\n",
    "    'RECM': [round(rmse, 2), round(rmse_cb, 2)],\n",
    "    'Tiempo de entrenamiento (s)': [round(end_train - start_train, 2), round(end_train_cb - start_train_cb, 2)],\n",
    "    'Tiempo de predicción (s)': [round(end_pred - start_pred, 4), round(end_pred_cb - start_pred_cb, 4)]\n",
    "})\n",
    "\n",
    "# Mostrar tabla comparativa\n",
    "print(\"\\n📊 Comparación de modelos:\\n\")\n",
    "print(comparacion)\n"
   ]
  },
  {
   "cell_type": "markdown",
   "metadata": {},
   "source": [
    "Aunque el Random Forest es bastante sólido y rápido, el modelo de CatBoost logró una mejor precisión general (RECM más bajo), aunque con un mayor tiempo de entrenamiento. En resumen, si priorizamos la calidad de predicción, CatBoost es la mejor opción; pero si el tiempo de cómputo es limitado, Random Forest sigue siendo un competidor muy competente."
   ]
  },
  {
   "cell_type": "markdown",
   "metadata": {},
   "source": [
    "# Lista de control"
   ]
  },
  {
   "cell_type": "markdown",
   "metadata": {},
   "source": [
    "Escribe 'x' para verificar. Luego presiona Shift+Enter"
   ]
  },
  {
   "cell_type": "markdown",
   "metadata": {},
   "source": [
    "- [x]  Jupyter Notebook está abierto\n",
    "- [X]  El código no tiene errores\n",
    "- [X]  Las celdas con el código han sido colocadas en orden de ejecución\n",
    "- [X]  Los datos han sido descargados y preparados\n",
    "- [X]  Los modelos han sido entrenados\n",
    "- [X]  Se realizó el análisis de velocidad y calidad de los modelos"
   ]
  }
 ],
 "metadata": {
  "kernelspec": {
   "display_name": "Python (s8_sql)",
   "language": "python",
   "name": "s8_sql"
  },
  "language_info": {
   "codemirror_mode": {
    "name": "ipython",
    "version": 3
   },
   "file_extension": ".py",
   "mimetype": "text/x-python",
   "name": "python",
   "nbconvert_exporter": "python",
   "pygments_lexer": "ipython3",
   "version": "3.10.0"
  }
 },
 "nbformat": 4,
 "nbformat_minor": 4
}
